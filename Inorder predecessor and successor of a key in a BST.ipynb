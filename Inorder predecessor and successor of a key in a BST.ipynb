{
 "cells": [
  {
   "cell_type": "code",
   "execution_count": 1,
   "metadata": {},
   "outputs": [],
   "source": [
    "def findPreSuc(root, key):\n",
    " \n",
    "    # Base Case\n",
    "    if root is None:\n",
    "        return\n",
    " \n",
    "    # If key is present at root\n",
    "    if root.key == key:\n",
    " \n",
    "        # the maximum value in left subtree is predecessor\n",
    "        if root.left is not None:\n",
    "            tmp = root.left\n",
    "            while(tmp.right):\n",
    "                tmp = tmp.right\n",
    "            findPreSuc.pre = tmp\n",
    " \n",
    " \n",
    "        # the minimum value in right subtree is successor\n",
    "        if root.right is not None:\n",
    "            tmp = root.right\n",
    "            while(temp.left):\n",
    "                tmp = tmp.left\n",
    "            findPreSuc.suc = tmp\n",
    " \n",
    "        return\n",
    " \n",
    "    # If key is smaller than root's key, go to left subtree\n",
    "    if root.key > key :\n",
    "        findPreSuc.suc = root\n",
    "        findPreSuc(root.left, key)\n",
    " \n",
    "    else: # go to right subtree\n",
    "        findPreSuc.pre = root\n",
    "        findPreSuc(root.right, key)\n"
   ]
  },
  {
   "cell_type": "code",
   "execution_count": null,
   "metadata": {},
   "outputs": [],
   "source": []
  }
 ],
 "metadata": {
  "kernelspec": {
   "display_name": "Python 3",
   "language": "python",
   "name": "python3"
  },
  "language_info": {
   "codemirror_mode": {
    "name": "ipython",
    "version": 3
   },
   "file_extension": ".py",
   "mimetype": "text/x-python",
   "name": "python",
   "nbconvert_exporter": "python",
   "pygments_lexer": "ipython3",
   "version": "3.8.3"
  }
 },
 "nbformat": 4,
 "nbformat_minor": 4
}
