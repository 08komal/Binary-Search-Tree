{
 "cells": [
  {
   "cell_type": "code",
   "execution_count": 1,
   "metadata": {},
   "outputs": [],
   "source": [
    "def ma(root ):\n",
    "    if root.right!=None:\n",
    "        return max(root.right)\n",
    "    else:\n",
    "        return root.data\n",
    "\n",
    "#Function to delete a node from BST.\n",
    "def deleteNode(root, X):\n",
    "    # code here.\n",
    "    if root==None:\n",
    "        return None\n",
    "    if X> root.data:\n",
    "        root.right= deleteNode(root.right, X)\n",
    "    elif X< root.data:\n",
    "        root.left= deleteNode(root.left, X)\n",
    "    elif root.left!=None and root.right!=None:\n",
    "        lmax= ma(root.left)\n",
    "        root.data= lmax\n",
    "        root.left= deleteNode(root.left, lmax)\n",
    "    elif root.left!= None:\n",
    "        return root.left\n",
    "    elif root.right!=None:\n",
    "        return root.right\n",
    "    else:\n",
    "        return None\n",
    "    return root\n"
   ]
  },
  {
   "cell_type": "code",
   "execution_count": null,
   "metadata": {},
   "outputs": [],
   "source": []
  }
 ],
 "metadata": {
  "kernelspec": {
   "display_name": "Python 3",
   "language": "python",
   "name": "python3"
  },
  "language_info": {
   "codemirror_mode": {
    "name": "ipython",
    "version": 3
   },
   "file_extension": ".py",
   "mimetype": "text/x-python",
   "name": "python",
   "nbconvert_exporter": "python",
   "pygments_lexer": "ipython3",
   "version": "3.8.3"
  }
 },
 "nbformat": 4,
 "nbformat_minor": 4
}
