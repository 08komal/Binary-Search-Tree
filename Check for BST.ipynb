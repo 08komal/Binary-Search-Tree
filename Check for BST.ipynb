{
 "cells": [
  {
   "cell_type": "code",
   "execution_count": 1,
   "metadata": {},
   "outputs": [],
   "source": [
    "def isBST(root, l = None, r = None):\n",
    " \n",
    "    # Base condition\n",
    "    if (root == None) :\n",
    "        return True\n",
    " \n",
    "    # if left node exist then check it has\n",
    "    # correct data or not i.e. left node's data\n",
    "    # should be less than root's data\n",
    "    if (l != None and root.data <= l.data) :\n",
    "        return False\n",
    " \n",
    "    # if right node exist then check it has\n",
    "    # correct data or not i.e. right node's data\n",
    "    # should be greater than root's data\n",
    "    if (r != None and root.data >= r.data) :\n",
    "        return False\n",
    " \n",
    "    # check recursively for every node.\n",
    "    return isBST(root.left, l, root) and  isBST(root.right, root, r)"
   ]
  },
  {
   "cell_type": "code",
   "execution_count": null,
   "metadata": {},
   "outputs": [],
   "source": []
  }
 ],
 "metadata": {
  "kernelspec": {
   "display_name": "Python 3",
   "language": "python",
   "name": "python3"
  },
  "language_info": {
   "codemirror_mode": {
    "name": "ipython",
    "version": 3
   },
   "file_extension": ".py",
   "mimetype": "text/x-python",
   "name": "python",
   "nbconvert_exporter": "python",
   "pygments_lexer": "ipython3",
   "version": "3.8.3"
  }
 },
 "nbformat": 4,
 "nbformat_minor": 4
}
